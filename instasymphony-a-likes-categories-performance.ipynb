{
 "cells": [
  {
   "cell_type": "markdown",
   "id": "46d4df07",
   "metadata": {
    "papermill": {
     "duration": 0.002933,
     "end_time": "2023-10-14T02:18:59.414209",
     "exception": false,
     "start_time": "2023-10-14T02:18:59.411276",
     "status": "completed"
    },
    "tags": []
   },
   "source": [
    "## Introduction:\n",
    "\n",
    "Welcome to the Instagram Data Analysis Project! 📊📈\n",
    "\n",
    "Ever wondered what goes on behind the scenes in the world of Instagram? How different categories of posts perform, and what's the story behind those likes? In this captivating project, we dive into a simulated Instagram dataset to uncover intriguing insights and visualize trends in a way that anyone can understand.\n",
    "\n",
    "Picture this: a treasure trove of data mimicking Instagram activity, from the hottest fashion trends to delicious food journeys. We take this raw data and embark on a journey of data manipulation and visualization to paint a vivid picture of what the Instagram world might look like.\n",
    "\n",
    "In this adventure, we'll generate random data, sort it into categories, and simulate likes. We'll then wield the power of Python and its versatile libraries—Pandas for data wrangling, Seaborn for stunning visualizations, and more—to bring this data to life.\n",
    "\n",
    "Join us as we unravel the mysteries hidden within the data, crunch numbers, create eye-catching graphs, and extract insights that could be a game-changer in understanding the dynamics of Instagram. Let's embark on this data-driven adventure and peer into the digital world of Instagram like never before! 🚀✨"
   ]
  },
  {
   "cell_type": "markdown",
   "id": "d6d4c8e1",
   "metadata": {
    "papermill": {
     "duration": 0.002031,
     "end_time": "2023-10-14T02:18:59.420093",
     "exception": false,
     "start_time": "2023-10-14T02:18:59.418062",
     "status": "completed"
    },
    "tags": []
   },
   "source": [
    "**Task 1 – Import required libraries**"
   ]
  },
  {
   "cell_type": "code",
   "execution_count": 1,
   "id": "30f33558",
   "metadata": {
    "execution": {
     "iopub.execute_input": "2023-10-14T02:18:59.425975Z",
     "iopub.status.busy": "2023-10-14T02:18:59.425707Z",
     "iopub.status.idle": "2023-10-14T02:19:01.063181Z",
     "shell.execute_reply": "2023-10-14T02:19:01.062184Z"
    },
    "papermill": {
     "duration": 1.643108,
     "end_time": "2023-10-14T02:19:01.065309",
     "exception": false,
     "start_time": "2023-10-14T02:18:59.422201",
     "status": "completed"
    },
    "tags": []
   },
   "outputs": [],
   "source": [
    "import pandas as pd\n",
    "import numpy as np\n",
    "import matplotlib.pyplot as plt\n",
    "import seaborn as sns\n",
    "import random\n"
   ]
  },
  {
   "cell_type": "markdown",
   "id": "3d786b9f",
   "metadata": {
    "papermill": {
     "duration": 0.002221,
     "end_time": "2023-10-14T02:19:01.070216",
     "exception": false,
     "start_time": "2023-10-14T02:19:01.067995",
     "status": "completed"
    },
    "tags": []
   },
   "source": [
    "**Task 2 – Generate random data for the social media data**"
   ]
  },
  {
   "cell_type": "code",
   "execution_count": 2,
   "id": "51386d39",
   "metadata": {
    "execution": {
     "iopub.execute_input": "2023-10-14T02:19:01.076499Z",
     "iopub.status.busy": "2023-10-14T02:19:01.076072Z",
     "iopub.status.idle": "2023-10-14T02:19:01.100766Z",
     "shell.execute_reply": "2023-10-14T02:19:01.099498Z"
    },
    "papermill": {
     "duration": 0.030011,
     "end_time": "2023-10-14T02:19:01.102491",
     "exception": false,
     "start_time": "2023-10-14T02:19:01.072480",
     "status": "completed"
    },
    "tags": []
   },
   "outputs": [
    {
     "name": "stdout",
     "output_type": "stream",
     "text": [
      "        Date Category  Likes\n",
      "0 2021-01-01   Travel   6483\n",
      "1 2021-01-02   Family   1457\n",
      "2 2021-01-03  Fashion   9476\n",
      "3 2021-01-04   Health    874\n",
      "4 2021-01-05  Fashion   9761\n"
     ]
    }
   ],
   "source": [
    "# Define the categories\n",
    "categories = ['Food', 'Travel', 'Fashion', 'Fitness', 'Music', 'Culture', 'Family', 'Health']\n",
    "\n",
    "# Generate random data\n",
    "n = 500\n",
    "data = {\n",
    "    'Date': pd.date_range('2021-01-01', periods=n),\n",
    "    'Category': [random.choice(categories) for _ in range(n)],\n",
    "    'Likes': np.random.randint(0, 10000, size=n)\n",
    "}\n",
    "\n",
    "# Create a DataFrame\n",
    "df = pd.DataFrame(data)\n",
    "\n",
    "# Display the DataFrame\n",
    "print(df.head())\n"
   ]
  },
  {
   "cell_type": "markdown",
   "id": "fd4c776d",
   "metadata": {
    "papermill": {
     "duration": 0.002168,
     "end_time": "2023-10-14T02:19:01.107222",
     "exception": false,
     "start_time": "2023-10-14T02:19:01.105054",
     "status": "completed"
    },
    "tags": []
   },
   "source": [
    "**Task 3 – Load the data into a Pandas DataFrame and Explore the data**"
   ]
  },
  {
   "cell_type": "code",
   "execution_count": 3,
   "id": "d1417602",
   "metadata": {
    "execution": {
     "iopub.execute_input": "2023-10-14T02:19:01.113842Z",
     "iopub.status.busy": "2023-10-14T02:19:01.112900Z",
     "iopub.status.idle": "2023-10-14T02:19:01.153652Z",
     "shell.execute_reply": "2023-10-14T02:19:01.152732Z"
    },
    "papermill": {
     "duration": 0.046184,
     "end_time": "2023-10-14T02:19:01.155754",
     "exception": false,
     "start_time": "2023-10-14T02:19:01.109570",
     "status": "completed"
    },
    "tags": []
   },
   "outputs": [
    {
     "name": "stdout",
     "output_type": "stream",
     "text": [
      "DataFrame Head:\n",
      "        Date Category  Likes\n",
      "0 2021-01-01   Travel   6483\n",
      "1 2021-01-02   Family   1457\n",
      "2 2021-01-03  Fashion   9476\n",
      "3 2021-01-04   Health    874\n",
      "4 2021-01-05  Fashion   9761\n",
      "\n",
      "DataFrame Information:\n",
      "<class 'pandas.core.frame.DataFrame'>\n",
      "RangeIndex: 500 entries, 0 to 499\n",
      "Data columns (total 3 columns):\n",
      " #   Column    Non-Null Count  Dtype         \n",
      "---  ------    --------------  -----         \n",
      " 0   Date      500 non-null    datetime64[ns]\n",
      " 1   Category  500 non-null    object        \n",
      " 2   Likes     500 non-null    int64         \n",
      "dtypes: datetime64[ns](1), int64(1), object(1)\n",
      "memory usage: 11.8+ KB\n",
      "None\n",
      "\n",
      "DataFrame Description:\n",
      "                      Date        Likes\n",
      "count                  500   500.000000\n",
      "mean   2021-09-07 12:00:00  5028.452000\n",
      "min    2021-01-01 00:00:00    18.000000\n",
      "25%    2021-05-05 18:00:00  2520.000000\n",
      "50%    2021-09-07 12:00:00  5109.500000\n",
      "75%    2022-01-10 06:00:00  7520.500000\n",
      "max    2022-05-15 00:00:00  9988.000000\n",
      "std                    NaN  2904.379661\n",
      "\n",
      "Count of each 'Category' element:\n",
      "Category\n",
      "Fashion    69\n",
      "Culture    68\n",
      "Music      65\n",
      "Food       63\n",
      "Health     62\n",
      "Fitness    62\n",
      "Family     57\n",
      "Travel     54\n",
      "Name: count, dtype: int64\n"
     ]
    }
   ],
   "source": [
    "# Create a DataFrame\n",
    "df = pd.DataFrame(data)\n",
    "\n",
    "# Print the DataFrame head\n",
    "print(\"DataFrame Head:\")\n",
    "print(df.head())\n",
    "\n",
    "# Print the DataFrame information\n",
    "print(\"\\nDataFrame Information:\")\n",
    "print(df.info())\n",
    "\n",
    "# Print the DataFrame description\n",
    "print(\"\\nDataFrame Description:\")\n",
    "print(df.describe())\n",
    "\n",
    "# Print the count of each 'Category' element\n",
    "print(\"\\nCount of each 'Category' element:\")\n",
    "print(df['Category'].value_counts())"
   ]
  },
  {
   "cell_type": "markdown",
   "id": "2cd52973",
   "metadata": {
    "papermill": {
     "duration": 0.003094,
     "end_time": "2023-10-14T02:19:01.161628",
     "exception": false,
     "start_time": "2023-10-14T02:19:01.158534",
     "status": "completed"
    },
    "tags": []
   },
   "source": [
    "**Task 4 – Clean the data**"
   ]
  },
  {
   "cell_type": "code",
   "execution_count": 4,
   "id": "c102ecc6",
   "metadata": {
    "execution": {
     "iopub.execute_input": "2023-10-14T02:19:01.168963Z",
     "iopub.status.busy": "2023-10-14T02:19:01.168193Z",
     "iopub.status.idle": "2023-10-14T02:19:01.180679Z",
     "shell.execute_reply": "2023-10-14T02:19:01.179873Z"
    },
    "papermill": {
     "duration": 0.018045,
     "end_time": "2023-10-14T02:19:01.182222",
     "exception": false,
     "start_time": "2023-10-14T02:19:01.164177",
     "status": "completed"
    },
    "tags": []
   },
   "outputs": [
    {
     "name": "stdout",
     "output_type": "stream",
     "text": [
      "Cleaned DataFrame:\n",
      "        Date Category  Likes\n",
      "0 2021-01-01   Travel   6483\n",
      "1 2021-01-02   Family   1457\n",
      "2 2021-01-03  Fashion   9476\n",
      "3 2021-01-04   Health    874\n",
      "4 2021-01-05  Fashion   9761\n"
     ]
    }
   ],
   "source": [
    "# Remove null values\n",
    "df.dropna(inplace=True)\n",
    "\n",
    "# Remove duplicate data\n",
    "df.drop_duplicates(inplace=True)\n",
    "\n",
    "# Convert 'Date' to datetime format\n",
    "df['Date'] = pd.to_datetime(df['Date'])\n",
    "\n",
    "# Convert 'Likes' to integer\n",
    "df['Likes'] = df['Likes'].astype(int)\n",
    "\n",
    "# Print the cleaned DataFrame\n",
    "print(\"Cleaned DataFrame:\")\n",
    "print(df.head())"
   ]
  },
  {
   "cell_type": "markdown",
   "id": "1e75f889",
   "metadata": {
    "papermill": {
     "duration": 0.002393,
     "end_time": "2023-10-14T02:19:01.187372",
     "exception": false,
     "start_time": "2023-10-14T02:19:01.184979",
     "status": "completed"
    },
    "tags": []
   },
   "source": [
    "**Task 5– Visualize and Analyze the data**"
   ]
  },
  {
   "cell_type": "code",
   "execution_count": 5,
   "id": "d1ca4211",
   "metadata": {
    "execution": {
     "iopub.execute_input": "2023-10-14T02:19:01.193600Z",
     "iopub.status.busy": "2023-10-14T02:19:01.193222Z",
     "iopub.status.idle": "2023-10-14T02:19:01.459088Z",
     "shell.execute_reply": "2023-10-14T02:19:01.458082Z"
    },
    "papermill": {
     "duration": 0.27151,
     "end_time": "2023-10-14T02:19:01.461308",
     "exception": false,
     "start_time": "2023-10-14T02:19:01.189798",
     "status": "completed"
    },
    "tags": []
   },
   "outputs": [
    {
     "data": {
      "image/png": "[encoded data removed]",
      "text/plain": [
       "<Figure size 1000x600 with 1 Axes>"
      ]
     },
     "metadata": {},
     "output_type": "display_data"
    }
   ],
   "source": [
    "# Visualize data with histogram\n",
    "plt.figure(figsize=(10, 6))\n",
    "sns.histplot(df['Likes'], kde=True)\n",
    "plt.xlabel('Likes')\n",
    "plt.ylabel('Count')\n",
    "plt.title('Histogram of Likes')\n",
    "plt.show()"
   ]
  },
  {
   "cell_type": "code",
   "execution_count": 6,
   "id": "f469b0b1",
   "metadata": {
    "execution": {
     "iopub.execute_input": "2023-10-14T02:19:01.468795Z",
     "iopub.status.busy": "2023-10-14T02:19:01.468511Z",
     "iopub.status.idle": "2023-10-14T02:19:01.682945Z",
     "shell.execute_reply": "2023-10-14T02:19:01.681387Z"
    },
    "papermill": {
     "duration": 0.2205,
     "end_time": "2023-10-14T02:19:01.684986",
     "exception": false,
     "start_time": "2023-10-14T02:19:01.464486",
     "status": "completed"
    },
    "tags": []
   },
   "outputs": [
    {
     "data": {
      "image/png": "[encoded data removed]",
      "text/plain": [
       "<Figure size 1000x600 with 1 Axes>"
      ]
     },
     "metadata": {},
     "output_type": "display_data"
    }
   ],
   "source": [
    "# Visualize data with boxplot\n",
    "plt.figure(figsize=(10, 6))\n",
    "sns.boxplot(x='Category', y='Likes', data=df)\n",
    "plt.xlabel('Category')\n",
    "plt.ylabel('Likes')\n",
    "plt.title('Boxplot of Likes by Category')\n",
    "plt.xticks(rotation=45)\n",
    "plt.show()"
   ]
  },
  {
   "cell_type": "code",
   "execution_count": 7,
   "id": "b109cbaa",
   "metadata": {
    "execution": {
     "iopub.execute_input": "2023-10-14T02:19:01.693473Z",
     "iopub.status.busy": "2023-10-14T02:19:01.692781Z",
     "iopub.status.idle": "2023-10-14T02:19:01.697824Z",
     "shell.execute_reply": "2023-10-14T02:19:01.696849Z"
    },
    "papermill": {
     "duration": 0.011331,
     "end_time": "2023-10-14T02:19:01.699957",
     "exception": false,
     "start_time": "2023-10-14T02:19:01.688626",
     "status": "completed"
    },
    "tags": []
   },
   "outputs": [
    {
     "name": "stdout",
     "output_type": "stream",
     "text": [
      "Mean of 'Likes': 5028.452\n"
     ]
    }
   ],
   "source": [
    "# Print the mean of 'Likes'\n",
    "print(\"Mean of 'Likes':\", df['Likes'].mean())"
   ]
  },
  {
   "cell_type": "code",
   "execution_count": 8,
   "id": "0b9bbdc8",
   "metadata": {
    "execution": {
     "iopub.execute_input": "2023-10-14T02:19:01.708964Z",
     "iopub.status.busy": "2023-10-14T02:19:01.708639Z",
     "iopub.status.idle": "2023-10-14T02:19:01.718999Z",
     "shell.execute_reply": "2023-10-14T02:19:01.718324Z"
    },
    "papermill": {
     "duration": 0.016364,
     "end_time": "2023-10-14T02:19:01.720379",
     "exception": false,
     "start_time": "2023-10-14T02:19:01.704015",
     "status": "completed"
    },
    "tags": []
   },
   "outputs": [
    {
     "name": "stdout",
     "output_type": "stream",
     "text": [
      "\n",
      "Mean Likes for Each Category:\n",
      "Category\n",
      "Culture    5279.426471\n",
      "Family     5453.543860\n",
      "Fashion    5477.275362\n",
      "Fitness    5074.387097\n",
      "Food       4848.349206\n",
      "Health     4261.709677\n",
      "Music      5155.061538\n",
      "Travel     4575.518519\n",
      "Name: Likes, dtype: float64\n"
     ]
    }
   ],
   "source": [
    "# Print the mean of 'Likes' for each category\n",
    "category_likes_mean = df.groupby('Category')['Likes'].mean()\n",
    "print(\"\\nMean Likes for Each Category:\")\n",
    "print(category_likes_mean)"
   ]
  },
  {
   "cell_type": "markdown",
   "id": "8c9e10be",
   "metadata": {
    "papermill": {
     "duration": 0.003386,
     "end_time": "2023-10-14T02:19:01.727385",
     "exception": false,
     "start_time": "2023-10-14T02:19:01.723999",
     "status": "completed"
    },
    "tags": []
   },
   "source": [
    "## Conclusion:\n",
    "\n",
    "In this project, I embarked on analyzing a hypothetical dataset mimicking Instagram data. The goal was to gain insights and visualize trends related to different categories and likes on Instagram. The process involved generating random data, cleaning and structuring it appropriately, and then visualizing it using Seaborn and Matplotlib.\n",
    "\n",
    "I started by defining categories for the social media experiment, generating random data for 'Date', 'Category', and 'Likes', and then creating a Pandas DataFrame to organize the data efficiently. This data was then cleaned to remove null values and duplicates using DataFrame methods.\n",
    "\n",
    "The visual analysis involved creating a histogram to display the distribution of likes and a boxplot to showcase the distribution of likes across various categories. Additionally, I computed statistics such as the mean number of likes, providing a quantitative understanding of the dataset.\n",
    "\n",
    "One of the key aspects that sets this portfolio project apart is the combination of data generation, cleaning, visualization, and statistical analysis. It showcases skills in data manipulation, visualization, and interpretation. The ability to generate synthetic data for analysis demonstrates creativity and problem-solving skills.\n",
    "\n",
    "For future business endeavors, enhancing the design and interactivity of the visualizations could provide a more engaging user experience. Implementing an interactive dashboard where users can dynamically select categories for analysis and visualize trends over time could be a valuable addition. Additionally, incorporating machine learning models to predict trends based on historical data could further enhance the project's depth and usefulness.\n",
    "\n"
   ]
  }
 ],
 "metadata": {
  "kernelspec": {
   "display_name": "Python 3",
   "language": "python",
   "name": "python3"
  },
  "language_info": {
   "codemirror_mode": {
    "name": "ipython",
    "version": 3
   },
   "file_extension": ".py",
   "mimetype": "text/x-python",
   "name": "python",
   "nbconvert_exporter": "python",
   "pygments_lexer": "ipython3",
   "version": "3.10.12"
  },
  "papermill": {
   "default_parameters": {},
   "duration": 5.298177,
   "end_time": "2023-10-14T02:19:02.248548",
   "environment_variables": {},
   "exception": null,
   "input_path": "__notebook__.ipynb",
   "output_path": "__notebook__.ipynb",
   "parameters": {},
   "start_time": "2023-10-14T02:18:56.950371",
   "version": "2.4.0"
  }
 },
 "nbformat": 4,
 "nbformat_minor": 5
}
