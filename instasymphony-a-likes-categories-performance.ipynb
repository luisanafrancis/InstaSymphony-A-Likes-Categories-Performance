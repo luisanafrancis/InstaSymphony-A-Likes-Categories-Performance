{
 "cells": [
  {
   "cell_type": "markdown",
   "id": "c78d4c70",
   "metadata": {
    "papermill": {
     "duration": 0.006173,
     "end_time": "2023-10-14T03:16:04.422190",
     "exception": false,
     "start_time": "2023-10-14T03:16:04.416017",
     "status": "completed"
    },
    "tags": []
   },
   "source": [
    "## Introduction:\n",
    "\n",
    "Welcome to the Instagram Data Analysis Project! 📊📈\n",
    "\n",
    "Ever wondered what goes on behind the scenes in the world of Instagram? How different categories of posts perform, and what's the story behind those likes? In this captivating project, we dive into a simulated Instagram dataset to uncover intriguing insights and visualize trends in a way that anyone can understand.\n",
    "\n",
    "Picture this: a treasure trove of data mimicking Instagram activity, from the hottest fashion trends to delicious food journeys. We take this raw data and embark on a journey of data manipulation and visualization to paint a vivid picture of what the Instagram world might look like.\n",
    "\n",
    "In this adventure, we'll generate random data, sort it into categories, and simulate likes. We'll then wield the power of Python and its versatile libraries—Pandas for data wrangling, Seaborn for stunning visualizations, and more—to bring this data to life.\n",
    "\n",
    "Join us as we unravel the mysteries hidden within the data, crunch numbers, create eye-catching graphs, and extract insights that could be a game-changer in understanding the dynamics of Instagram. Let's embark on this data-driven adventure and peer into the digital world of Instagram like never before! 🚀✨"
   ]
  },
  {
   "cell_type": "markdown",
   "id": "c0ddd53f",
   "metadata": {
    "papermill": {
     "duration": 0.003626,
     "end_time": "2023-10-14T03:16:04.432177",
     "exception": false,
     "start_time": "2023-10-14T03:16:04.428551",
     "status": "completed"
    },
    "tags": []
   },
   "source": [
    "## Task 1: Import Required Libraries\n",
    "\n",
    "In this task, we gathered our tools for the Instagram Data Analysis adventure! Think of these libraries as our trusty companions, each having its special ability to assist us.\n",
    "\n",
    "1. **Pandas (`import pandas as pd`):** Pandas is like a data wizard's wand. It helps us organize, clean, and manipulate our data efficiently, making our journey through the dataset a breeze.\n",
    "\n",
    "2. **NumPy (`import numpy as np`):** NumPy provides us with the magic of numerical operations. It's like our mathematical spellbook, enabling us to perform complex calculations and handle arrays effortlessly.\n",
    "\n",
    "3. **Random (`import random`):** Just like a magician's hat filled with surprises, the 'random' library lets us conjure randomness. It's perfect for simulating chance occurrences, like generating random numbers or choices.\n",
    "\n",
    "4. **Seaborn (`import seaborn as sns`):** Seaborn is our artist's palette. It helps us create visually appealing plots and graphs, allowing us to present our findings in an attractive and informative way.\n",
    "\n",
    "5. **Matplotlib (`import matplotlib.pyplot as plt`):** Matplotlib is our canvas and brush. It's the tool that allows us to create a wide array of plots and charts, helping us visualize the data and tell our story effectively.\n",
    "\n",
    "With these magical tools at our disposal, we're ready to embark on our adventure through the Instagram dataset, explore its secrets, and present our findings in a captivating and insightful manner! 🌟📊✨"
   ]
  },
  {
   "cell_type": "code",
   "execution_count": 1,
   "id": "e019769b",
   "metadata": {
    "execution": {
     "iopub.execute_input": "2023-10-14T03:16:04.442447Z",
     "iopub.status.busy": "2023-10-14T03:16:04.441631Z",
     "iopub.status.idle": "2023-10-14T03:16:06.562331Z",
     "shell.execute_reply": "2023-10-14T03:16:06.561151Z"
    },
    "papermill": {
     "duration": 2.128869,
     "end_time": "2023-10-14T03:16:06.564973",
     "exception": false,
     "start_time": "2023-10-14T03:16:04.436104",
     "status": "completed"
    },
    "tags": []
   },
   "outputs": [],
   "source": [
    "import pandas as pd\n",
    "import numpy as np\n",
    "import matplotlib.pyplot as plt\n",
    "import seaborn as sns\n",
    "import random\n"
   ]
  },
  {
   "cell_type": "markdown",
   "id": "b5c10f34",
   "metadata": {
    "papermill": {
     "duration": 0.00362,
     "end_time": "2023-10-14T03:16:06.572939",
     "exception": false,
     "start_time": "2023-10-14T03:16:06.569319",
     "status": "completed"
    },
    "tags": []
   },
   "source": [
    "## Task 2: Generate Captivating Random Data\n",
    "\n",
    "In this task, we wave our magic wands to conjure up a vibrant world of Instagram-like data, ready for exploration and analysis! 🪄✨\n",
    "\n",
    "1. **Categories Magic Potion:** First, we gather a potion of categories - 'Food', 'Travel', 'Fashion', 'Fitness', 'Music', 'Culture', 'Family', and 'Health'. Just like selecting ingredients for a spell, these categories will add flavor and variety to our Instagram-like data.\n",
    "\n",
    "2. **Summoning the Data Wizards:** Next, we set the stage for our adventure by deciding how big our dataset should be. In this case, we've summoned 500 mystical data points!\n",
    "\n",
    "3. **Crafting the Data Spells:** Now, we cast spells to create our dataset. We generate 'Dates' starting from '2021-01-01', 'Categories' are randomly chosen from our magical potion, and 'Likes' are sprinkled randomly between 0 to 10,000 - a sprinkle of magic that gives life to our data!\n",
    "\n",
    "4. **Enchanting the DataFrame:** With a flick of the wrist, we mold the gathered data into a DataFrame, a powerful artifact that will help us on our journey.\n",
    "\n",
    "5. **Unveiling the Magic:** Finally, we unveil the enchanted DataFrame, giving us a glimpse of the adventure that awaits us. The head of the DataFrame provides a sneak peek into the Instagram-like world we've created.\n",
    "\n",
    "With our data in place, our adventure into understanding the Instagram universe begins. Let's analyze, visualize, and uncover the secrets hidden within this magical dataset! 🌟🔍🎩"
   ]
  },
  {
   "cell_type": "code",
   "execution_count": 2,
   "id": "144c0c2d",
   "metadata": {
    "execution": {
     "iopub.execute_input": "2023-10-14T03:16:06.582391Z",
     "iopub.status.busy": "2023-10-14T03:16:06.581791Z",
     "iopub.status.idle": "2023-10-14T03:16:06.610934Z",
     "shell.execute_reply": "2023-10-14T03:16:06.609149Z"
    },
    "papermill": {
     "duration": 0.036819,
     "end_time": "2023-10-14T03:16:06.613451",
     "exception": false,
     "start_time": "2023-10-14T03:16:06.576632",
     "status": "completed"
    },
    "tags": []
   },
   "outputs": [
    {
     "name": "stdout",
     "output_type": "stream",
     "text": [
      "        Date Category  Likes\n",
      "0 2021-01-01  Fashion   3575\n",
      "1 2021-01-02   Family     86\n",
      "2 2021-01-03  Fashion   4019\n",
      "3 2021-01-04     Food   3096\n",
      "4 2021-01-05  Fashion   7719\n"
     ]
    }
   ],
   "source": [
    "# Define the categories\n",
    "categories = ['Food', 'Travel', 'Fashion', 'Fitness', 'Music', 'Culture', 'Family', 'Health']\n",
    "\n",
    "# Generate random data\n",
    "n = 500\n",
    "data = {\n",
    "    'Date': pd.date_range('2021-01-01', periods=n),\n",
    "    'Category': [random.choice(categories) for _ in range(n)],\n",
    "    'Likes': np.random.randint(0, 10000, size=n)\n",
    "}\n",
    "\n",
    "# Create a DataFrame\n",
    "df = pd.DataFrame(data)\n",
    "\n",
    "# Display the DataFrame\n",
    "print(df.head())\n"
   ]
  },
  {
   "cell_type": "markdown",
   "id": "a3ab6698",
   "metadata": {
    "papermill": {
     "duration": 0.003779,
     "end_time": "2023-10-14T03:16:06.621453",
     "exception": false,
     "start_time": "2023-10-14T03:16:06.617674",
     "status": "completed"
    },
    "tags": []
   },
   "source": [
    "## Task 3: Dive into the Instagram Data Wonderland\n",
    "\n",
    "In this task, we don our explorer hats and venture into the enchanting Instagram Data Wonderland, where every row and column holds a fascinating story waiting to be uncovered! 🌏🔍\n",
    "\n",
    "1. **Crafting the Data Ship:** We set sail on our exploration by crafting a sturdily-built ship called the DataFrame. This ship will be our trusty vessel throughout our journey in this mysterious data world.\n",
    "\n",
    "2. **First Glance at the Map:** As explorers, we're always eager for a glimpse of the map. We quickly peek at the head of our DataFrame, a snippet of the treasure map that gives us an idea of what lies ahead.\n",
    "\n",
    "3. **Inspecting the Relics:** Our ship makes a stop at 'DataFrame Information Island'. Here, we examine the relics and artifacts, discovering the types of data we possess and how much of it is there.\n",
    "\n",
    "4. **Unveiling the Scroll:** Continuing our expedition, we unveil the scroll of 'DataFrame Description'. The scroll provides us with valuable insights, a script to decipher the ancient language of statistics, revealing the story behind our dataset.\n",
    "\n",
    "5. **Counting the Artifacts:** We gather our tally sticks and count the artifacts - the 'Category' elements. It's like counting the treasures in different chests, giving us a sense of the diversity in our dataset.\n",
    "\n",
    "With our compasses aligned and our maps in hand, we're now ready to embark on a thrilling adventure, unraveling the tales and mysteries hidden in this captivating Instagram Data Wonderland! 🚢🗺️🔓"
   ]
  },
  {
   "cell_type": "code",
   "execution_count": 3,
   "id": "be2c2121",
   "metadata": {
    "execution": {
     "iopub.execute_input": "2023-10-14T03:16:06.630975Z",
     "iopub.status.busy": "2023-10-14T03:16:06.630624Z",
     "iopub.status.idle": "2023-10-14T03:16:06.677626Z",
     "shell.execute_reply": "2023-10-14T03:16:06.676151Z"
    },
    "papermill": {
     "duration": 0.054845,
     "end_time": "2023-10-14T03:16:06.680215",
     "exception": false,
     "start_time": "2023-10-14T03:16:06.625370",
     "status": "completed"
    },
    "tags": []
   },
   "outputs": [
    {
     "name": "stdout",
     "output_type": "stream",
     "text": [
      "DataFrame Head:\n",
      "        Date Category  Likes\n",
      "0 2021-01-01  Fashion   3575\n",
      "1 2021-01-02   Family     86\n",
      "2 2021-01-03  Fashion   4019\n",
      "3 2021-01-04     Food   3096\n",
      "4 2021-01-05  Fashion   7719\n",
      "\n",
      "DataFrame Information:\n",
      "<class 'pandas.core.frame.DataFrame'>\n",
      "RangeIndex: 500 entries, 0 to 499\n",
      "Data columns (total 3 columns):\n",
      " #   Column    Non-Null Count  Dtype         \n",
      "---  ------    --------------  -----         \n",
      " 0   Date      500 non-null    datetime64[ns]\n",
      " 1   Category  500 non-null    object        \n",
      " 2   Likes     500 non-null    int64         \n",
      "dtypes: datetime64[ns](1), int64(1), object(1)\n",
      "memory usage: 11.8+ KB\n",
      "None\n",
      "\n",
      "DataFrame Description:\n",
      "                      Date        Likes\n",
      "count                  500   500.000000\n",
      "mean   2021-09-07 12:00:00  4998.530000\n",
      "min    2021-01-01 00:00:00    16.000000\n",
      "25%    2021-05-05 18:00:00  2615.500000\n",
      "50%    2021-09-07 12:00:00  4843.500000\n",
      "75%    2022-01-10 06:00:00  7436.250000\n",
      "max    2022-05-15 00:00:00  9965.000000\n",
      "std                    NaN  2804.031858\n",
      "\n",
      "Count of each 'Category' element:\n",
      "Category\n",
      "Food       72\n",
      "Travel     67\n",
      "Fashion    66\n",
      "Family     62\n",
      "Fitness    62\n",
      "Music      60\n",
      "Culture    58\n",
      "Health     53\n",
      "Name: count, dtype: int64\n"
     ]
    }
   ],
   "source": [
    "# Create a DataFrame\n",
    "df = pd.DataFrame(data)\n",
    "\n",
    "# Print the DataFrame head\n",
    "print(\"DataFrame Head:\")\n",
    "print(df.head())\n",
    "\n",
    "# Print the DataFrame information\n",
    "print(\"\\nDataFrame Information:\")\n",
    "print(df.info())\n",
    "\n",
    "# Print the DataFrame description\n",
    "print(\"\\nDataFrame Description:\")\n",
    "print(df.describe())\n",
    "\n",
    "# Print the count of each 'Category' element\n",
    "print(\"\\nCount of each 'Category' element:\")\n",
    "print(df['Category'].value_counts())"
   ]
  },
  {
   "cell_type": "markdown",
   "id": "3cd0093d",
   "metadata": {
    "papermill": {
     "duration": 0.003974,
     "end_time": "2023-10-14T03:16:06.688838",
     "exception": false,
     "start_time": "2023-10-14T03:16:06.684864",
     "status": "completed"
    },
    "tags": []
   },
   "source": [
    "## Task 4: Tidying Up the Instagram Playground\n",
    "\n",
    "In this task, we put on our cleaning gloves and tidy up our Instagram playground! It's like making sure the playground is in tip-top shape for all our friends to enjoy. 🧹🏞️\n",
    "\n",
    "1. **Sweeping Away the Leaves:** We start by sweeping away any leaves (null values) scattered around. Just like tidying up a playground, we don't want any obstacles in our way. So, we bid farewell to any row that doesn't have complete information.\n",
    "\n",
    "2. **Sorting Out the Clones:** Next, we play detective and identify any clones (duplicate data) trying to sneak into our playground. Every friend should get a unique spot, so we remove any duplicates to keep it fair and square.\n",
    "\n",
    "3. **Setting the Date Playground:** Our playground has a 'Date' area, but it's a bit disorganized. We put on our organizing hats and arrange the 'Date' area to follow the rules - it's now in a neat datetime format, ready for everyone to enjoy!\n",
    "\n",
    "4. **Polishing the Likes Swing:** The 'Likes' swing was a bit wobbly. We get our toolkit and fix it up by converting 'Likes' into integers. Now, everyone can have a smooth swing!\n",
    "\n",
    "5. **Announcing the Clean Playground:** Finally, we announce the playground is clean and ready for playtime! We showcase the newly cleaned area, a fresh and inviting space for all our friends to frolic and have fun.\n",
    "\n",
    "With our Instagram playground spick and span, we can now proceed to play, explore, and have a great time analyzing the fascinating Instagram-like data! 🌟🧽🎉"
   ]
  },
  {
   "cell_type": "code",
   "execution_count": 4,
   "id": "0eaa9974",
   "metadata": {
    "execution": {
     "iopub.execute_input": "2023-10-14T03:16:06.699533Z",
     "iopub.status.busy": "2023-10-14T03:16:06.698326Z",
     "iopub.status.idle": "2023-10-14T03:16:06.714804Z",
     "shell.execute_reply": "2023-10-14T03:16:06.713398Z"
    },
    "papermill": {
     "duration": 0.024609,
     "end_time": "2023-10-14T03:16:06.717498",
     "exception": false,
     "start_time": "2023-10-14T03:16:06.692889",
     "status": "completed"
    },
    "tags": []
   },
   "outputs": [
    {
     "name": "stdout",
     "output_type": "stream",
     "text": [
      "Cleaned DataFrame:\n",
      "        Date Category  Likes\n",
      "0 2021-01-01  Fashion   3575\n",
      "1 2021-01-02   Family     86\n",
      "2 2021-01-03  Fashion   4019\n",
      "3 2021-01-04     Food   3096\n",
      "4 2021-01-05  Fashion   7719\n"
     ]
    }
   ],
   "source": [
    "# Remove null values\n",
    "df.dropna(inplace=True)\n",
    "\n",
    "# Remove duplicate data\n",
    "df.drop_duplicates(inplace=True)\n",
    "\n",
    "# Convert 'Date' to datetime format\n",
    "df['Date'] = pd.to_datetime(df['Date'])\n",
    "\n",
    "# Convert 'Likes' to integer\n",
    "df['Likes'] = df['Likes'].astype(int)\n",
    "\n",
    "# Print the cleaned DataFrame\n",
    "print(\"Cleaned DataFrame:\")\n",
    "print(df.head())"
   ]
  },
  {
   "cell_type": "markdown",
   "id": "6fc67d2d",
   "metadata": {
    "papermill": {
     "duration": 0.004103,
     "end_time": "2023-10-14T03:16:06.726703",
     "exception": false,
     "start_time": "2023-10-14T03:16:06.722600",
     "status": "completed"
    },
    "tags": []
   },
   "source": [
    "## Task 5: Unveiling the Instagram Symphony 🚀📊\n",
    "\n",
    "Behold, dear data enthusiasts, as we journey into the Instagram Symphony, where every beat is a note and every visualization is a dance! 🎶🌟\n",
    "\n",
    "In this grand performance, we present two acts that bring the 'Likes Spectrum' to life:\n",
    "\n",
    "### Act I: The Harmonious Histogram 🎵📊\n",
    "\n",
    "The Harmonious Histogram emerges, a mesmerizing ballet of 'Likes'. Picture a grand stage adorned with a palette of soft pastel hues, the perfect backdrop to showcase the likes' graceful dance. Each bar is a note, rising and falling in a melodious rhythm, unveiling the distribution of likes. The audience, in awe, follows this visual sonnet, a symphony of engagement frequencies that tells the story of our Instagram presence.\n",
    "\n",
    "### Act II: The Category Ballad in Boxes 🎶📦\n",
    "\n",
    "The spotlight shifts to the Category Ballad in Boxes, an energetic performance where 'Likes' take center stage within individual boxes. Picture an amphitheater alive with vibrant hues, representing the diverse categories. Each box is a stage, and 'Likes' are the soloists, performing their unique variations. The boxes resonate with the audience, harmonizing the tale of engagement diversity across categories in this dynamic ballad.\n",
    "\n",
    "In this grand spectacle, these two acts join hands, creating a visual narrative that is nothing short of a captivating symphony. So, dear audience, prepare for a mesmerizing performance as we unveil the melodies and rhythms hidden within our Instagram data! 🎵🔍🌌"
   ]
  },
  {
   "cell_type": "markdown",
   "id": "f28ea24d",
   "metadata": {
    "papermill": {
     "duration": 0.003885,
     "end_time": "2023-10-14T03:16:06.734743",
     "exception": false,
     "start_time": "2023-10-14T03:16:06.730858",
     "status": "completed"
    },
    "tags": []
   },
   "source": [
    "## Unveiling the Likes Spectrum: A Histogram Extravaganza! 🎉📊\n",
    "\n",
    "Behold, dear data enthusiasts, as we unfurl the vibrant canvas of Likes in a grand Histogram Extravaganza! 🌈✨\n",
    "\n",
    "1. **Setting the Stage**: Imagine a grand theater, the spotlight shining on a stage adorned with data. Here, our 'Likes' take center stage, ready to perform their fascinating tale.\n",
    "\n",
    "2. **Crafting the Backdrop**: With a palette of soft pastel hues, we create an inviting backdrop. The stage is set with a whitegrid-style canvas, providing a fresh and clean setting that beckons us to explore.\n",
    "\n",
    "3. **Rising from the Shadows**: The histogram emerges, each bar representing a spectrum of 'Likes'. The density plot gracefully dances alongside, like a wisp of creativity adding intrigue to our narrative.\n",
    "\n",
    "4. **A Symphony of Counts**: The y-axis tallies the count, a musical crescendo showcasing how many times each like count makes its appearance. The higher the bar, the louder the note!\n",
    "\n",
    "5. **Likes, the Main Character**: The x-axis tells the story of 'Likes', our protagonist. It unfolds from 0 to a maximum of 10,000, displaying the varying levels of affection our posts receive.\n",
    "\n",
    "6. **Applause for the Ensemble**: The audience roars in appreciation, captivated by this visual symphony. The histogram allows us to witness the diversity in 'Likes', each bar a different facet of our Instagram journey.\n",
    "\n",
    "In this grand spectacle, the 'Likes' take center stage, their tale unveiled in a spectacular display of colors and patterns. Welcome to the Likes Spectrum, where data dances to the beat of our exploration! 🕺💃🥳"
   ]
  },
  {
   "cell_type": "code",
   "execution_count": 5,
   "id": "46e45fc8",
   "metadata": {
    "execution": {
     "iopub.execute_input": "2023-10-14T03:16:06.746291Z",
     "iopub.status.busy": "2023-10-14T03:16:06.745883Z",
     "iopub.status.idle": "2023-10-14T03:16:07.230462Z",
     "shell.execute_reply": "2023-10-14T03:16:07.229239Z"
    },
    "papermill": {
     "duration": 0.493879,
     "end_time": "2023-10-14T03:16:07.232813",
     "exception": false,
     "start_time": "2023-10-14T03:16:06.738934",
     "status": "completed"
    },
    "tags": []
   },
   "outputs": [
    {
     "data": {
      "image/png": "[encoded data removed]",
      "text/plain": [
       "<Figure size 1200x800 with 1 Axes>"
      ]
     },
     "metadata": {},
     "output_type": "display_data"
    }
   ],
   "source": [
    "# Set the style for seaborn\n",
    "sns.set(style='whitegrid')\n",
    "\n",
    "# Create a pleasing color palette\n",
    "palette = sns.color_palette(\"pastel\")\n",
    "\n",
    "# Create a figure and axis\n",
    "plt.figure(figsize=(12, 8))\n",
    "\n",
    "# Plot the histogram\n",
    "sns.histplot(df['Likes'], kde=True, color=palette[0])\n",
    "\n",
    "# Add labels and title\n",
    "plt.xlabel('Likes', fontsize=14)\n",
    "plt.ylabel('Count', fontsize=14)\n",
    "plt.title('Histogram of Likes', fontsize=16)\n",
    "\n",
    "# Show the plot\n",
    "plt.show()\n"
   ]
  },
  {
   "cell_type": "markdown",
   "id": "8d4189b5",
   "metadata": {
    "papermill": {
     "duration": 0.005248,
     "end_time": "2023-10-14T03:16:07.243585",
     "exception": false,
     "start_time": "2023-10-14T03:16:07.238337",
     "status": "completed"
    },
    "tags": []
   },
   "source": [
    "## Unveiling the Likes Ensemble: A Boxplot Symphony! 🎶🎻\n",
    "\n",
    "Ladies and Gentlemen, brace yourselves for a musical journey through the enchanting 'Likes Ensemble' presented in a grand Boxplot Symphony! 🌌✨\n",
    "\n",
    "1. **Setting the Stage**: Imagine an opulent concert hall, bathed in soft pastel hues and adorned with elegant simplicity. The air is charged with anticipation, promising a spectacular performance.\n",
    "\n",
    "2. **Crafting a Harmonious Palette**: We've carefully chosen a palette reminiscent of a tranquil watercolor painting, adding a sense of sophistication and harmony to the ambiance.\n",
    "\n",
    "3. **The Rising Crescendo**: As the first note is struck, the boxplots rise gracefully, each representing a different category. The length of each box tells a tale of likes - the variations, the quartiles, and the outliers - a melody of data points in harmony.\n",
    "\n",
    "4. **Strings of Categories**: The x-axis strings resonate with the categories, each one playing a unique tune. They elegantly present the diverse genres of posts - 'Food', 'Travel', 'Fashion', and more - contributing to this musical extravaganza.\n",
    "\n",
    "5. **Harmonious Frequencies**: The y-axis notes depict the Likes, from the low hums to the crescendos of appreciation. The interplay of these frequencies creates a symphony, showcasing the distribution of likes in each category.\n",
    "\n",
    "6. **Applause and Ovation**: The audience, enthralled by this visual composition, bursts into applause, appreciating the symphony of 'Likes Ensemble'. Each boxplot is a musical note in this captivating composition.\n",
    "\n",
    "In this grand performance, the 'Likes' take center stage, their symphony echoing through the elegant boxplots. Welcome to the Likes Ensemble, where data orchestrates a melodious performance! 🎵🎹👏"
   ]
  },
  {
   "cell_type": "code",
   "execution_count": 6,
   "id": "d4a574ec",
   "metadata": {
    "execution": {
     "iopub.execute_input": "2023-10-14T03:16:07.256030Z",
     "iopub.status.busy": "2023-10-14T03:16:07.255671Z",
     "iopub.status.idle": "2023-10-14T03:16:07.641604Z",
     "shell.execute_reply": "2023-10-14T03:16:07.640184Z"
    },
    "papermill": {
     "duration": 0.394711,
     "end_time": "2023-10-14T03:16:07.643867",
     "exception": false,
     "start_time": "2023-10-14T03:16:07.249156",
     "status": "completed"
    },
    "tags": []
   },
   "outputs": [
    {
     "data": {
      "image/png": "[encoded data removed]",
      "text/plain": [
       "<Figure size 1200x800 with 1 Axes>"
      ]
     },
     "metadata": {},
     "output_type": "display_data"
    }
   ],
   "source": [
    "# Set a pleasing style\n",
    "sns.set_style(\"whitegrid\")\n",
    "\n",
    "# Create a color palette\n",
    "palette = sns.color_palette(\"pastel\")\n",
    "\n",
    "# Create a figure and axis\n",
    "plt.figure(figsize=(12, 8))\n",
    "\n",
    "# Plot the boxplot\n",
    "ax = sns.boxplot(x='Category', y='Likes', data=df, palette=palette)\n",
    "\n",
    "# Beautify the plot\n",
    "ax.set_xlabel('Category', fontsize=14)\n",
    "ax.set_ylabel('Likes', fontsize=14)\n",
    "ax.set_title('Boxplot of Likes by Category', fontsize=16)\n",
    "ax.set_xticklabels(ax.get_xticklabels(), rotation=45, ha=\"right\", fontsize=12)\n",
    "\n",
    "# Show the plot\n",
    "plt.show()\n"
   ]
  },
  {
   "cell_type": "markdown",
   "id": "4e12765f",
   "metadata": {
    "papermill": {
     "duration": 0.005776,
     "end_time": "2023-10-14T03:16:07.655768",
     "exception": false,
     "start_time": "2023-10-14T03:16:07.649992",
     "status": "completed"
    },
    "tags": []
   },
   "source": [
    "## The Likes Symphony's Harmonic Duet: Mean Likes by Category 🎶🤝\n",
    "\n",
    "Now, let's delve deeper into our Likes Symphony, unveiling a harmonious duet—the Mean Likes for Each Category. Picture this as a musical dialogue, where every category takes its turn, narrating its average appreciation.\n",
    "\n",
    "1. **Categories on Stage**: Imagine our categories stepping onto a musical stage, each with its own unique tune—'Food', 'Travel', 'Fashion', and the like—all awaiting their moment in the spotlight.\n",
    "\n",
    "2. **Musical Averages**: The mean likes for each category become their musical scores, reflecting the average applause they garner. It's like each category's distinct note in the grand composition.\n",
    "\n",
    "3. **Harmonious Conversations**: As the averages unfold, it's akin to a musical duet, where the 'Likes' and categories engage in a harmonious conversation. Some categories hum softly, while others resonate with thunderous applause.\n",
    "\n",
    "In this musical metaphor, we witness a duet of data—each category contributing its musical note, defining its average likes. It's a harmonious dialogue, showcasing the engagement rhythms of our Instagram journey. Welcome to the symphonic dialogue of 'Likes' by category! 🎵🎭🌟"
   ]
  },
  {
   "cell_type": "code",
   "execution_count": 7,
   "id": "5ac08d3a",
   "metadata": {
    "execution": {
     "iopub.execute_input": "2023-10-14T03:16:07.669961Z",
     "iopub.status.busy": "2023-10-14T03:16:07.669524Z",
     "iopub.status.idle": "2023-10-14T03:16:07.676306Z",
     "shell.execute_reply": "2023-10-14T03:16:07.675031Z"
    },
    "papermill": {
     "duration": 0.016761,
     "end_time": "2023-10-14T03:16:07.678463",
     "exception": false,
     "start_time": "2023-10-14T03:16:07.661702",
     "status": "completed"
    },
    "tags": []
   },
   "outputs": [
    {
     "name": "stdout",
     "output_type": "stream",
     "text": [
      "Mean of 'Likes': 4998.53\n"
     ]
    }
   ],
   "source": [
    "# Print the mean of 'Likes'\n",
    "print(\"Mean of 'Likes':\", df['Likes'].mean())"
   ]
  },
  {
   "cell_type": "code",
   "execution_count": 8,
   "id": "c85716b2",
   "metadata": {
    "execution": {
     "iopub.execute_input": "2023-10-14T03:16:07.691981Z",
     "iopub.status.busy": "2023-10-14T03:16:07.691630Z",
     "iopub.status.idle": "2023-10-14T03:16:07.703205Z",
     "shell.execute_reply": "2023-10-14T03:16:07.701901Z"
    },
    "papermill": {
     "duration": 0.020759,
     "end_time": "2023-10-14T03:16:07.705183",
     "exception": false,
     "start_time": "2023-10-14T03:16:07.684424",
     "status": "completed"
    },
    "tags": []
   },
   "outputs": [
    {
     "name": "stdout",
     "output_type": "stream",
     "text": [
      "\n",
      "Mean Likes for Each Category:\n",
      "Category\n",
      "Culture    4910.965517\n",
      "Family     5377.241935\n",
      "Fashion    5072.333333\n",
      "Fitness    4929.758065\n",
      "Food       4866.458333\n",
      "Health     5204.584906\n",
      "Music      4603.700000\n",
      "Travel     5047.328358\n",
      "Name: Likes, dtype: float64\n"
     ]
    }
   ],
   "source": [
    "# Print the mean of 'Likes' for each category\n",
    "category_likes_mean = df.groupby('Category')['Likes'].mean()\n",
    "print(\"\\nMean Likes for Each Category:\")\n",
    "print(category_likes_mean)"
   ]
  },
  {
   "cell_type": "markdown",
   "id": "622efa57",
   "metadata": {
    "papermill": {
     "duration": 0.005732,
     "end_time": "2023-10-14T03:16:07.716995",
     "exception": false,
     "start_time": "2023-10-14T03:16:07.711263",
     "status": "completed"
    },
    "tags": []
   },
   "source": [
    "## Conclusion: A Grand Finale to the Symphony of Insights! 🎵🔍\n",
    "\n",
    "In this symphonic journey through our hypothetical Instagram dataset, we embarked on a captivating exploration of engagement and categories. Our quest was to unravel the musical nuances of likes and categories, bringing their harmonies to the forefront through visual storytelling.\n",
    "\n",
    "The overture began with the creation of a diverse category ensemble—the stars of our show. Each category was a unique melody, waiting to be played in the grand symphony of our data.\n",
    "\n",
    "As the curtains rose, we choreographed a mesmerizing dance of data, generating a tale of 'Date', 'Category', and 'Likes'. With each movement, we breathed life into our Pandas DataFrame, sculpting it into a work of art—a canvas waiting to be painted.\n",
    "\n",
    "The data waltz continued, refining and polishing the performance. We cleaned the stage, ensuring no null values or duplicates stole the spotlight, allowing our data's rhythm to shine through.\n",
    "\n",
    "Then came the crescendo—the visual act. The histogram and boxplot took center stage, revealing the distribution of likes and their unique choreography across categories. The likes' symphony echoed through the concert hall, resonating with every viewer.\n",
    "\n",
    "But the symphony needed a central theme, a fundamental melody—the mean of likes. It conducted the ensemble, providing the backbone to this engaging musical composition.\n",
    "\n",
    "This portfolio project, a true virtuoso performance, stands out in its orchestration of data manipulation, visualization, and interpretation. The use of synthetic data demonstrates creativity, adding a unique note to the composition.\n",
    "\n",
    "As the final curtain falls, we look to the future. Imagine an encore—a visually enriched experience, an interactive dashboard where users conduct their analysis, choosing categories and exploring trends dynamically. Picture machine learning models joining the orchestra, predicting future engagement trends, adding depth and complexity to the symphony.\n",
    "\n",
    "In this grand finale, the Likes Symphony has just begun, leaving us eagerly awaiting the next movement in this captivating saga! Bravo! 👏🌟\n"
   ]
  }
 ],
 "metadata": {
  "kernelspec": {
   "display_name": "Python 3",
   "language": "python",
   "name": "python3"
  },
  "language_info": {
   "codemirror_mode": {
    "name": "ipython",
    "version": 3
   },
   "file_extension": ".py",
   "mimetype": "text/x-python",
   "name": "python",
   "nbconvert_exporter": "python",
   "pygments_lexer": "ipython3",
   "version": "3.10.12"
  },
  "papermill": {
   "default_parameters": {},
   "duration": 7.365998,
   "end_time": "2023-10-14T03:16:08.346641",
   "environment_variables": {},
   "exception": null,
   "input_path": "__notebook__.ipynb",
   "output_path": "__notebook__.ipynb",
   "parameters": {},
   "start_time": "2023-10-14T03:16:00.980643",
   "version": "2.4.0"
  }
 },
 "nbformat": 4,
 "nbformat_minor": 5
}
